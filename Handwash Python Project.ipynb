{
 "cells": [
  {
   "cell_type": "markdown",
   "id": "b67a08ef",
   "metadata": {},
   "source": [
    "## 1. Meet Dr. Ignaz Semmelweis\n",
    "<p><img style=\"float: left;margin:5px 20px 5px 1px\" src=\"https://assets.datacamp.com/production/project_20/img/ignaz_semmelweis_1860.jpeg\"></p>\n",
    "<!--\n",
    "<img style=\"float: left;margin:5px 20px 5px 1px\" src=\"https://assets.datacamp.com/production/project_20/datasets/ignaz_semmelweis_1860.jpeg\">\n",
    "-->\n",
    "<p>This is Dr. Ignaz Semmelweis, a Hungarian physician born in 1818 and active at the Vienna General Hospital. If Dr. Semmelweis looks troubled it's probably because he's thinking about <em>childbed fever</em>: A deadly disease affecting women that just have given birth. He is thinking about it because in the early 1840s at the Vienna General Hospital as many as 10% of the women giving birth die from it. He is thinking about it because he knows the cause of childbed fever: It's the contaminated hands of the doctors delivering the babies. And they won't listen to him and <em>wash their hands</em>!</p>\n",
    "<p>In this notebook, we're going to reanalyze the data that made Semmelweis discover the importance of <em>handwashing</em>. Let's start by looking at the data that made Semmelweis realize that something was wrong with the procedures at Vienna General Hospital.</p>"
   ]
  },
  {
   "cell_type": "code",
   "execution_count": 1,
   "id": "a7356329",
   "metadata": {},
   "outputs": [],
   "source": [
    "# importing modules\n",
    "import pandas as pd\n",
    "import numpy as np"
   ]
  },
  {
   "cell_type": "code",
   "execution_count": 2,
   "id": "a95034ae",
   "metadata": {},
   "outputs": [],
   "source": [
    "# Read datasets/yearly_deaths_by_clinic.csv into yearly\n",
    "yearly=pd.read_csv(r\"C:\\Users\\Shailesh Poojary\\Documents\\Python Programming\\yearly_deaths_by_clinic.csv\")"
   ]
  },
  {
   "cell_type": "code",
   "execution_count": 3,
   "id": "b51d9bc9",
   "metadata": {},
   "outputs": [
    {
     "name": "stdout",
     "output_type": "stream",
     "text": [
      "    year  births  deaths    clinic\n",
      "0   1841    3036     237  clinic 1\n",
      "1   1842    3287     518  clinic 1\n",
      "2   1843    3060     274  clinic 1\n",
      "3   1844    3157     260  clinic 1\n",
      "4   1845    3492     241  clinic 1\n",
      "5   1846    4010     459  clinic 1\n",
      "6   1841    2442      86  clinic 2\n",
      "7   1842    2659     202  clinic 2\n",
      "8   1843    2739     164  clinic 2\n",
      "9   1844    2956      68  clinic 2\n",
      "10  1845    3241      66  clinic 2\n",
      "11  1846    3754     105  clinic 2\n"
     ]
    }
   ],
   "source": [
    "# Print out yearly\n",
    "print(yearly)"
   ]
  },
  {
   "cell_type": "markdown",
   "id": "98a95ded",
   "metadata": {},
   "source": [
    "## 2. The alarming number of deaths\n",
    "<p>The table above shows the number of women giving birth at the two clinics at the Vienna General Hospital for the years 1841 to 1846. You'll notice that giving birth was very dangerous; an <em>alarming</em> number of women died as the result of childbirth, most of them from childbed fever.</p>\n",
    "<p>We see this more clearly if we look at the <em>proportion of deaths</em> out of the number of women giving birth. Let's zoom in on the proportion of deaths at Clinic 1.</p>"
   ]
  },
  {
   "cell_type": "code",
   "execution_count": 4,
   "id": "5e743dbb",
   "metadata": {},
   "outputs": [
    {
     "data": {
      "text/html": [
       "<div>\n",
       "<style scoped>\n",
       "    .dataframe tbody tr th:only-of-type {\n",
       "        vertical-align: middle;\n",
       "    }\n",
       "\n",
       "    .dataframe tbody tr th {\n",
       "        vertical-align: top;\n",
       "    }\n",
       "\n",
       "    .dataframe thead th {\n",
       "        text-align: right;\n",
       "    }\n",
       "</style>\n",
       "<table border=\"1\" class=\"dataframe\">\n",
       "  <thead>\n",
       "    <tr style=\"text-align: right;\">\n",
       "      <th></th>\n",
       "      <th>year</th>\n",
       "      <th>births</th>\n",
       "      <th>deaths</th>\n",
       "      <th>clinic</th>\n",
       "      <th>proportion_of_deaths</th>\n",
       "    </tr>\n",
       "  </thead>\n",
       "  <tbody>\n",
       "    <tr>\n",
       "      <th>0</th>\n",
       "      <td>1841</td>\n",
       "      <td>3036</td>\n",
       "      <td>237</td>\n",
       "      <td>clinic 1</td>\n",
       "      <td>7.806324</td>\n",
       "    </tr>\n",
       "    <tr>\n",
       "      <th>1</th>\n",
       "      <td>1842</td>\n",
       "      <td>3287</td>\n",
       "      <td>518</td>\n",
       "      <td>clinic 1</td>\n",
       "      <td>15.759051</td>\n",
       "    </tr>\n",
       "    <tr>\n",
       "      <th>2</th>\n",
       "      <td>1843</td>\n",
       "      <td>3060</td>\n",
       "      <td>274</td>\n",
       "      <td>clinic 1</td>\n",
       "      <td>8.954248</td>\n",
       "    </tr>\n",
       "    <tr>\n",
       "      <th>3</th>\n",
       "      <td>1844</td>\n",
       "      <td>3157</td>\n",
       "      <td>260</td>\n",
       "      <td>clinic 1</td>\n",
       "      <td>8.235667</td>\n",
       "    </tr>\n",
       "    <tr>\n",
       "      <th>4</th>\n",
       "      <td>1845</td>\n",
       "      <td>3492</td>\n",
       "      <td>241</td>\n",
       "      <td>clinic 1</td>\n",
       "      <td>6.901489</td>\n",
       "    </tr>\n",
       "    <tr>\n",
       "      <th>5</th>\n",
       "      <td>1846</td>\n",
       "      <td>4010</td>\n",
       "      <td>459</td>\n",
       "      <td>clinic 1</td>\n",
       "      <td>11.446384</td>\n",
       "    </tr>\n",
       "    <tr>\n",
       "      <th>6</th>\n",
       "      <td>1841</td>\n",
       "      <td>2442</td>\n",
       "      <td>86</td>\n",
       "      <td>clinic 2</td>\n",
       "      <td>3.521704</td>\n",
       "    </tr>\n",
       "    <tr>\n",
       "      <th>7</th>\n",
       "      <td>1842</td>\n",
       "      <td>2659</td>\n",
       "      <td>202</td>\n",
       "      <td>clinic 2</td>\n",
       "      <td>7.596841</td>\n",
       "    </tr>\n",
       "    <tr>\n",
       "      <th>8</th>\n",
       "      <td>1843</td>\n",
       "      <td>2739</td>\n",
       "      <td>164</td>\n",
       "      <td>clinic 2</td>\n",
       "      <td>5.987587</td>\n",
       "    </tr>\n",
       "    <tr>\n",
       "      <th>9</th>\n",
       "      <td>1844</td>\n",
       "      <td>2956</td>\n",
       "      <td>68</td>\n",
       "      <td>clinic 2</td>\n",
       "      <td>2.300406</td>\n",
       "    </tr>\n",
       "    <tr>\n",
       "      <th>10</th>\n",
       "      <td>1845</td>\n",
       "      <td>3241</td>\n",
       "      <td>66</td>\n",
       "      <td>clinic 2</td>\n",
       "      <td>2.036409</td>\n",
       "    </tr>\n",
       "    <tr>\n",
       "      <th>11</th>\n",
       "      <td>1846</td>\n",
       "      <td>3754</td>\n",
       "      <td>105</td>\n",
       "      <td>clinic 2</td>\n",
       "      <td>2.797017</td>\n",
       "    </tr>\n",
       "  </tbody>\n",
       "</table>\n",
       "</div>"
      ],
      "text/plain": [
       "    year  births  deaths    clinic  proportion_of_deaths\n",
       "0   1841    3036     237  clinic 1              7.806324\n",
       "1   1842    3287     518  clinic 1             15.759051\n",
       "2   1843    3060     274  clinic 1              8.954248\n",
       "3   1844    3157     260  clinic 1              8.235667\n",
       "4   1845    3492     241  clinic 1              6.901489\n",
       "5   1846    4010     459  clinic 1             11.446384\n",
       "6   1841    2442      86  clinic 2              3.521704\n",
       "7   1842    2659     202  clinic 2              7.596841\n",
       "8   1843    2739     164  clinic 2              5.987587\n",
       "9   1844    2956      68  clinic 2              2.300406\n",
       "10  1845    3241      66  clinic 2              2.036409\n",
       "11  1846    3754     105  clinic 2              2.797017"
      ]
     },
     "execution_count": 4,
     "metadata": {},
     "output_type": "execute_result"
    }
   ],
   "source": [
    "# Calculate proportion of deaths per no. births\n",
    "yearly[\"proportion_of_deaths\"] = yearly['deaths'] / yearly['births']\n",
    "yearly.proportion_of_deaths= yearly.proportion_of_deaths*100\n",
    "\n",
    "yearly"
   ]
  },
  {
   "cell_type": "code",
   "execution_count": 5,
   "id": "70ddf2de",
   "metadata": {},
   "outputs": [
    {
     "data": {
      "text/plain": [
       "clinic\n",
       "clinic 1    9.850527\n",
       "clinic 2    4.039994\n",
       "Name: proportion_of_deaths, dtype: float64"
      ]
     },
     "execution_count": 5,
     "metadata": {},
     "output_type": "execute_result"
    }
   ],
   "source": [
    "# Check the mean proportion of deaths in both the clinics\n",
    "mean_proportion_deaths = yearly.groupby('clinic')['proportion_of_deaths'].mean()\n",
    "mean_proportion_deaths"
   ]
  },
  {
   "cell_type": "markdown",
   "id": "c84bb6fb",
   "metadata": {},
   "source": [
    "The above numbers clearly indicate that death proportion is higher in Clinic 1. Check if this is the pattern for each year or is purely random.\n",
    "\n",
    "If proportion of death is higher for clinic 1, every single year. we can safely assume that there is some issue particularly with Clinic 1 & that it is not a random factor"
   ]
  },
  {
   "cell_type": "code",
   "execution_count": 6,
   "id": "486ac4c2",
   "metadata": {},
   "outputs": [
    {
     "data": {
      "text/plain": [
       "year\n",
       "1841     5.664014\n",
       "1842    11.677946\n",
       "1843     7.470918\n",
       "1844     5.268036\n",
       "1845     4.468949\n",
       "1846     7.121700\n",
       "Name: proportion_of_deaths, dtype: float64"
      ]
     },
     "execution_count": 6,
     "metadata": {},
     "output_type": "execute_result"
    }
   ],
   "source": [
    "# Check proportion of death for each year\n",
    "mean_proportion_of_deaths_yearly = yearly.groupby('year')['proportion_of_deaths'].mean()\n",
    "mean_proportion_of_deaths_yearly\n"
   ]
  },
  {
   "cell_type": "code",
   "execution_count": 7,
   "id": "f1281ee8",
   "metadata": {},
   "outputs": [
    {
     "data": {
      "text/html": [
       "<div>\n",
       "<style scoped>\n",
       "    .dataframe tbody tr th:only-of-type {\n",
       "        vertical-align: middle;\n",
       "    }\n",
       "\n",
       "    .dataframe tbody tr th {\n",
       "        vertical-align: top;\n",
       "    }\n",
       "\n",
       "    .dataframe thead th {\n",
       "        text-align: right;\n",
       "    }\n",
       "</style>\n",
       "<table border=\"1\" class=\"dataframe\">\n",
       "  <thead>\n",
       "    <tr style=\"text-align: right;\">\n",
       "      <th></th>\n",
       "      <th>year</th>\n",
       "      <th>clinic1_proportion</th>\n",
       "      <th>clinic2_proportion</th>\n",
       "      <th>difference</th>\n",
       "    </tr>\n",
       "  </thead>\n",
       "  <tbody>\n",
       "    <tr>\n",
       "      <th>0</th>\n",
       "      <td>1841</td>\n",
       "      <td>7.806324</td>\n",
       "      <td>3.521704</td>\n",
       "      <td>4.284621</td>\n",
       "    </tr>\n",
       "    <tr>\n",
       "      <th>1</th>\n",
       "      <td>1842</td>\n",
       "      <td>15.759051</td>\n",
       "      <td>7.596841</td>\n",
       "      <td>8.162210</td>\n",
       "    </tr>\n",
       "    <tr>\n",
       "      <th>2</th>\n",
       "      <td>1843</td>\n",
       "      <td>8.954248</td>\n",
       "      <td>5.987587</td>\n",
       "      <td>2.966662</td>\n",
       "    </tr>\n",
       "    <tr>\n",
       "      <th>3</th>\n",
       "      <td>1844</td>\n",
       "      <td>8.235667</td>\n",
       "      <td>2.300406</td>\n",
       "      <td>5.935261</td>\n",
       "    </tr>\n",
       "    <tr>\n",
       "      <th>4</th>\n",
       "      <td>1845</td>\n",
       "      <td>6.901489</td>\n",
       "      <td>2.036409</td>\n",
       "      <td>4.865081</td>\n",
       "    </tr>\n",
       "    <tr>\n",
       "      <th>5</th>\n",
       "      <td>1846</td>\n",
       "      <td>11.446384</td>\n",
       "      <td>2.797017</td>\n",
       "      <td>8.649368</td>\n",
       "    </tr>\n",
       "  </tbody>\n",
       "</table>\n",
       "</div>"
      ],
      "text/plain": [
       "   year  clinic1_proportion  clinic2_proportion  difference\n",
       "0  1841            7.806324            3.521704    4.284621\n",
       "1  1842           15.759051            7.596841    8.162210\n",
       "2  1843            8.954248            5.987587    2.966662\n",
       "3  1844            8.235667            2.300406    5.935261\n",
       "4  1845            6.901489            2.036409    4.865081\n",
       "5  1846           11.446384            2.797017    8.649368"
      ]
     },
     "execution_count": 7,
     "metadata": {},
     "output_type": "execute_result"
    }
   ],
   "source": [
    "# create a column name 'difference' which is clinic 1 death proportion - clinic 2 death proportion \n",
    "clinic1_data = yearly[yearly['clinic'] == 'clinic 1'][['year', 'proportion_of_deaths']].rename(columns={'proportion_of_deaths': 'clinic1_proportion'})\n",
    "clinic2_data = yearly[yearly['clinic'] == 'clinic 2'][['year', 'proportion_of_deaths']].rename(columns={'proportion_of_deaths': 'clinic2_proportion'})\n",
    "\n",
    "merged_df = pd.merge(clinic1_data, clinic2_data, on='year')\n",
    "merged_df['difference'] = merged_df['clinic1_proportion'] - merged_df['clinic2_proportion']\n",
    "\n",
    "merged_df"
   ]
  },
  {
   "cell_type": "code",
   "execution_count": 8,
   "id": "191ef998",
   "metadata": {},
   "outputs": [
    {
     "data": {
      "text/plain": [
       "count    6.000000\n",
       "mean     5.810534\n",
       "std      2.232255\n",
       "min      2.966662\n",
       "25%      4.429736\n",
       "50%      5.400171\n",
       "75%      7.605473\n",
       "max      8.649368\n",
       "Name: difference, dtype: float64"
      ]
     },
     "execution_count": 8,
     "metadata": {},
     "output_type": "execute_result"
    }
   ],
   "source": [
    "# print the 5 point summary for 'difference'\n",
    "merged_df['difference'].describe()"
   ]
  },
  {
   "cell_type": "markdown",
   "id": "e3ed9d36",
   "metadata": {},
   "source": [
    "We have clear evidence now that there is something fishy with Clinic 1's method of treatment. As clearly the death proportion is higher every single year."
   ]
  },
  {
   "cell_type": "markdown",
   "id": "7a11a073",
   "metadata": {},
   "source": [
    "## 3. The handwashing begins\n",
    "<p>Why is the proportion of deaths constantly so much higher in Clinic 1? Semmelweis saw the same pattern and was puzzled and distressed. The only difference between the clinics was that many medical students served at Clinic 1, while mostly midwife students served at Clinic 2. While the midwives only tended to the women giving birth, the medical students also spent time in the autopsy rooms examining corpses. </p>\n",
    "<p>Semmelweis started to suspect that something on the corpses, spread from the hands of the medical students, caused childbed fever. So in a desperate attempt to stop the high mortality rates, he decreed: <em>Wash your hands!</em> This was an unorthodox and controversial request, nobody in Vienna knew about bacteria at this point in time. </p>\n",
    "<p>Let's load in monthly data from Clinic 1 to see if the handwashing had any effect.</p>"
   ]
  },
  {
   "cell_type": "markdown",
   "id": "02db5087",
   "metadata": {},
   "source": [
    "The Clinic 1 monthly file is a sub-divided based on years. Let us first prepare a structured dataset for our analysis "
   ]
  },
  {
   "cell_type": "code",
   "execution_count": 9,
   "id": "412a608b",
   "metadata": {},
   "outputs": [],
   "source": [
    "# Read dataset/monthly_deaths using excelfile\n",
    "monthly=pd.read_excel(r\"C:\\Users\\Shailesh Poojary\\Documents\\Python Programming\\monthly_deaths.xlsx\")"
   ]
  },
  {
   "cell_type": "code",
   "execution_count": 10,
   "id": "30fd3696",
   "metadata": {},
   "outputs": [
    {
     "name": "stdout",
     "output_type": "stream",
     "text": [
      "c1_41\n",
      "c1_42\n",
      "c1_43\n",
      "c1_44\n",
      "c1_45\n",
      "c1_46\n",
      "c1_47\n",
      "c1_48\n",
      "c1_49\n"
     ]
    }
   ],
   "source": [
    "# print all sheet names\n",
    "sheet_names = pd.ExcelFile(r\"C:\\Users\\Shailesh Poojary\\Documents\\Python Programming\\monthly_deaths.xlsx\").sheet_names\n",
    "for i in sheet_names:\n",
    "    print(i)"
   ]
  },
  {
   "cell_type": "markdown",
   "id": "0bfcf19e",
   "metadata": {},
   "source": [
    "Import all files \n",
    "* either using a for loop & save it in a dictionary (OR) \n",
    "* import each file one after the other"
   ]
  },
  {
   "cell_type": "code",
   "execution_count": 1,
   "id": "46273cd6",
   "metadata": {},
   "outputs": [
    {
     "ename": "NameError",
     "evalue": "name 'sheet_names' is not defined",
     "output_type": "error",
     "traceback": [
      "\u001b[1;31m---------------------------------------------------------------------------\u001b[0m",
      "\u001b[1;31mNameError\u001b[0m                                 Traceback (most recent call last)",
      "Cell \u001b[1;32mIn[1], line 2\u001b[0m\n\u001b[0;32m      1\u001b[0m hdata \u001b[38;5;241m=\u001b[39m {}\n\u001b[1;32m----> 2\u001b[0m \u001b[38;5;28;01mfor\u001b[39;00m i \u001b[38;5;129;01min\u001b[39;00m sheet_names:\n\u001b[0;32m      3\u001b[0m     hdata[i] \u001b[38;5;241m=\u001b[39m pd\u001b[38;5;241m.\u001b[39mExcelFile(\u001b[38;5;124mr\u001b[39m\u001b[38;5;124m\"\u001b[39m\u001b[38;5;124mC:\u001b[39m\u001b[38;5;124m\\\u001b[39m\u001b[38;5;124mUsers\u001b[39m\u001b[38;5;124m\\\u001b[39m\u001b[38;5;124mShailesh Poojary\u001b[39m\u001b[38;5;124m\\\u001b[39m\u001b[38;5;124mDocuments\u001b[39m\u001b[38;5;124m\\\u001b[39m\u001b[38;5;124mPython Programming\u001b[39m\u001b[38;5;124m\\\u001b[39m\u001b[38;5;124mmonthly_deaths.xlsx\u001b[39m\u001b[38;5;124m\"\u001b[39m)\u001b[38;5;241m.\u001b[39mparse(i)\n\u001b[0;32m      4\u001b[0m \u001b[38;5;28mprint\u001b[39m(hdata)\n",
      "\u001b[1;31mNameError\u001b[0m: name 'sheet_names' is not defined"
     ]
    }
   ],
   "source": [
    "hdata = {}\n",
    "for i in sheet_names:\n",
    "    hdata[i] = pd.ExcelFile(r\"C:\\Users\\Shailesh Poojary\\Documents\\Python Programming\\monthly_deaths.xlsx\").parse(i)\n",
    "print(hdata)"
   ]
  },
  {
   "cell_type": "markdown",
   "id": "e18f67dd",
   "metadata": {},
   "source": [
    "Inspect column names & data types for each dataset using a for loop"
   ]
  },
  {
   "cell_type": "code",
   "execution_count": 15,
   "id": "2a628b0b",
   "metadata": {
    "scrolled": false
   },
   "outputs": [
    {
     "name": "stdout",
     "output_type": "stream",
     "text": [
      "c1_41\n",
      "------\n",
      "date      object\n",
      "births     int64\n",
      "deaths    object\n",
      "dtype: object\n",
      "----------------------------------------------------------------------\n",
      "----------------------------------------------------------------------\n",
      "c1_42\n",
      "------\n",
      "date      object\n",
      "births     int64\n",
      "deaths     int64\n",
      "dtype: object\n",
      "----------------------------------------------------------------------\n",
      "----------------------------------------------------------------------\n",
      "c1_43\n",
      "------\n",
      "date      object\n",
      "births     int64\n",
      "deaths     int64\n",
      "dtype: object\n",
      "----------------------------------------------------------------------\n",
      "----------------------------------------------------------------------\n",
      "c1_44\n",
      "------\n",
      "date      object\n",
      "births     int64\n",
      "deaths     int64\n",
      "dtype: object\n",
      "----------------------------------------------------------------------\n",
      "----------------------------------------------------------------------\n",
      "c1_45\n",
      "------\n",
      "date      object\n",
      "births     int64\n",
      "deaths     int64\n",
      "dtype: object\n",
      "----------------------------------------------------------------------\n",
      "----------------------------------------------------------------------\n",
      "c1_46\n",
      "------\n",
      "date      object\n",
      "births     int64\n",
      "deaths     int64\n",
      "dtype: object\n",
      "----------------------------------------------------------------------\n",
      "----------------------------------------------------------------------\n",
      "c1_47\n",
      "------\n",
      "date      object\n",
      "births     int64\n",
      "death      int64\n",
      "dtype: object\n",
      "----------------------------------------------------------------------\n",
      "----------------------------------------------------------------------\n",
      "c1_48\n",
      "------\n",
      "date      object\n",
      "births     int64\n",
      "deaths     int64\n",
      "dtype: object\n",
      "----------------------------------------------------------------------\n",
      "----------------------------------------------------------------------\n",
      "c1_49\n",
      "------\n",
      "date      object\n",
      "births     int64\n",
      "deaths     int64\n",
      "dtype: object\n",
      "----------------------------------------------------------------------\n",
      "----------------------------------------------------------------------\n"
     ]
    }
   ],
   "source": [
    "# using for loop inspect column names & data type for each dataset\n",
    "for i, j in hdata.items():\n",
    "    print(i)\n",
    "    print(\"--\"*3)\n",
    "    print(j.dtypes)\n",
    "    print('--'*35)\n",
    "    print('--'*35)\n",
    "    "
   ]
  },
  {
   "cell_type": "markdown",
   "id": "5ca98475",
   "metadata": {},
   "source": [
    "Pay special attention to c1_41 & c1_47 "
   ]
  },
  {
   "cell_type": "code",
   "execution_count": 16,
   "id": "2e31fff2",
   "metadata": {
    "scrolled": false
   },
   "outputs": [
    {
     "name": "stdout",
     "output_type": "stream",
     "text": [
      "          date  births  deaths\n",
      "0   1847-01-01     311      10\n",
      "1   1847-02-01     312       6\n",
      "2   1847-03-01     305      11\n",
      "3   1847-04-01     312      57\n",
      "4   1847-05-01     294      36\n",
      "5   1847-06-01     268       6\n",
      "6   1847-07-01     250       3\n",
      "7   1847-08-01     264       5\n",
      "8   1847-09-01     262      12\n",
      "9   1847-10-01     278      11\n",
      "10  1847-11-01     246      11\n",
      "11  1847-12-01     273       8\n"
     ]
    }
   ],
   "source": [
    "# rename column for c1_47\n",
    "if 'c1_47' in hdata:\n",
    "    hdata['c1_47'] = hdata['c1_47'].rename(columns={'death': 'deaths'})\n",
    "else:\n",
    "    print(\"Sheet 'c_47' not found in the dictionary.\")\n",
    "print(hdata['c1_47'])"
   ]
  },
  {
   "cell_type": "code",
   "execution_count": 17,
   "id": "66437463",
   "metadata": {},
   "outputs": [
    {
     "name": "stdout",
     "output_type": "stream",
     "text": [
      "          date  births deaths\n",
      "0   1841-01-01     254     37\n",
      "1   1841-02-01     239     18\n",
      "2   1841-03-01     277     12\n",
      "3   1841-04-01     255      4\n",
      "4   1841-05-01     255      2\n",
      "5   1841-06-01     200     10\n",
      "6   1841-07-01     190     16\n",
      "7   1841-08-01     222      3\n",
      "8   1841-09-01     213      4\n",
      "9   1841-10-01     236     26\n",
      "10  1841-11-01     235     53\n",
      "11  1841-12-01     225     50\n"
     ]
    }
   ],
   "source": [
    "# change text 'fifty' to numeric 50\n",
    "if 'c1_41' in hdata:\n",
    "    hdata['c1_41']['deaths'] = hdata['c1_41']['deaths'].replace('fifty', '50')\n",
    "else:\n",
    "    print(\"Sheet 'c_41' not found in the dictionary.\")\n",
    "print(hdata['c1_41'])"
   ]
  },
  {
   "cell_type": "code",
   "execution_count": 18,
   "id": "66e0105b",
   "metadata": {},
   "outputs": [],
   "source": [
    "# convert deaths from object to numeric\n",
    "if 'c1_41' in hdata:\n",
    "    hdata['c1_41']['deaths'] = pd.to_numeric(hdata['c1_41']['deaths'])\n",
    "else:\n",
    "    print(\"Sheet 'c1_41' not found in the dictionary.\")\n"
   ]
  },
  {
   "cell_type": "code",
   "execution_count": 19,
   "id": "e5b74c80",
   "metadata": {},
   "outputs": [
    {
     "name": "stdout",
     "output_type": "stream",
     "text": [
      "int64\n"
     ]
    }
   ],
   "source": [
    "# check dtype for c1_41 again & confirm if it is in suitable format\n",
    "if 'c1_41' in hdata:\n",
    "    print(hdata['c1_41']['deaths'].dtype)\n",
    "else:\n",
    "    print(\"Sheet 'c1_41' not found in the dictionary.\")"
   ]
  },
  {
   "cell_type": "markdown",
   "id": "4af7d595",
   "metadata": {},
   "source": [
    "Now that we have made all the datasets in the same format. Let us append all of them."
   ]
  },
  {
   "cell_type": "code",
   "execution_count": 20,
   "id": "39f3306f",
   "metadata": {},
   "outputs": [],
   "source": [
    "# append using loop, concat or append function\n",
    "comb_data = pd.concat(hdata.values(), ignore_index=True)"
   ]
  },
  {
   "cell_type": "code",
   "execution_count": 21,
   "id": "71e58aaa",
   "metadata": {},
   "outputs": [
    {
     "name": "stdout",
     "output_type": "stream",
     "text": [
      "         date  births  deaths\n",
      "0  1841-01-01     254      37\n",
      "1  1841-02-01     239      18\n",
      "2  1841-03-01     277      12\n",
      "3  1841-04-01     255       4\n",
      "4  1841-05-01     255       2\n",
      "-----------------------------------\n",
      "          date  births  deaths\n",
      "94  1848-11-01     310       9\n",
      "95  1848-12-01     373       5\n",
      "96  1849-01-01     403       9\n",
      "97  1849-02-01     389      12\n",
      "98  1849-03-01     406      20\n"
     ]
    }
   ],
   "source": [
    "# print head & tail of the final data set\n",
    "print((comb_data).head())\n",
    "print('-----------------------------------')\n",
    "print((comb_data).tail())"
   ]
  },
  {
   "cell_type": "markdown",
   "id": "782dca59",
   "metadata": {},
   "source": [
    "Now that we have prepared the data"
   ]
  },
  {
   "cell_type": "markdown",
   "id": "17534b11",
   "metadata": {},
   "source": [
    "## 4. The effect of handwashing\n",
    "<p>With the data loaded we can now look at the proportion of deaths over time. In the plot below we haven't marked where obligatory handwashing started, but it reduced the proportion of deaths to such a degree that you should be able to spot it!</p>"
   ]
  },
  {
   "cell_type": "code",
   "execution_count": 22,
   "id": "8fa5079c",
   "metadata": {},
   "outputs": [
    {
     "data": {
      "text/html": [
       "<div>\n",
       "<style scoped>\n",
       "    .dataframe tbody tr th:only-of-type {\n",
       "        vertical-align: middle;\n",
       "    }\n",
       "\n",
       "    .dataframe tbody tr th {\n",
       "        vertical-align: top;\n",
       "    }\n",
       "\n",
       "    .dataframe thead th {\n",
       "        text-align: right;\n",
       "    }\n",
       "</style>\n",
       "<table border=\"1\" class=\"dataframe\">\n",
       "  <thead>\n",
       "    <tr style=\"text-align: right;\">\n",
       "      <th></th>\n",
       "      <th>date</th>\n",
       "      <th>births</th>\n",
       "      <th>deaths</th>\n",
       "      <th>death_proportion</th>\n",
       "    </tr>\n",
       "  </thead>\n",
       "  <tbody>\n",
       "    <tr>\n",
       "      <th>0</th>\n",
       "      <td>1841-01-01</td>\n",
       "      <td>254</td>\n",
       "      <td>37</td>\n",
       "      <td>14.566929</td>\n",
       "    </tr>\n",
       "    <tr>\n",
       "      <th>1</th>\n",
       "      <td>1841-02-01</td>\n",
       "      <td>239</td>\n",
       "      <td>18</td>\n",
       "      <td>7.531381</td>\n",
       "    </tr>\n",
       "    <tr>\n",
       "      <th>2</th>\n",
       "      <td>1841-03-01</td>\n",
       "      <td>277</td>\n",
       "      <td>12</td>\n",
       "      <td>4.332130</td>\n",
       "    </tr>\n",
       "    <tr>\n",
       "      <th>3</th>\n",
       "      <td>1841-04-01</td>\n",
       "      <td>255</td>\n",
       "      <td>4</td>\n",
       "      <td>1.568627</td>\n",
       "    </tr>\n",
       "    <tr>\n",
       "      <th>4</th>\n",
       "      <td>1841-05-01</td>\n",
       "      <td>255</td>\n",
       "      <td>2</td>\n",
       "      <td>0.784314</td>\n",
       "    </tr>\n",
       "  </tbody>\n",
       "</table>\n",
       "</div>"
      ],
      "text/plain": [
       "         date  births  deaths  death_proportion\n",
       "0  1841-01-01     254      37         14.566929\n",
       "1  1841-02-01     239      18          7.531381\n",
       "2  1841-03-01     277      12          4.332130\n",
       "3  1841-04-01     255       4          1.568627\n",
       "4  1841-05-01     255       2          0.784314"
      ]
     },
     "execution_count": 22,
     "metadata": {},
     "output_type": "execute_result"
    }
   ],
   "source": [
    "# Create the death proportion column, which is 'death'/'births'\n",
    "comb_data['death_proportion'] = (comb_data['deaths'] / comb_data['births'])*100\n",
    "comb_data.head()"
   ]
  },
  {
   "cell_type": "code",
   "execution_count": 23,
   "id": "0c607231",
   "metadata": {},
   "outputs": [
    {
     "data": {
      "text/plain": [
       "date                datetime64[ns]\n",
       "births                       int64\n",
       "deaths                       int64\n",
       "death_proportion           float64\n",
       "dtype: object"
      ]
     },
     "execution_count": 23,
     "metadata": {},
     "output_type": "execute_result"
    }
   ],
   "source": [
    "# create a year column but before that, convert object to datetime\n",
    "comb_data['date'] = pd.to_datetime(comb_data['date'])\n",
    "comb_data.dtypes"
   ]
  },
  {
   "cell_type": "code",
   "execution_count": 24,
   "id": "1c4a483b",
   "metadata": {},
   "outputs": [
    {
     "data": {
      "text/html": [
       "<div>\n",
       "<style scoped>\n",
       "    .dataframe tbody tr th:only-of-type {\n",
       "        vertical-align: middle;\n",
       "    }\n",
       "\n",
       "    .dataframe tbody tr th {\n",
       "        vertical-align: top;\n",
       "    }\n",
       "\n",
       "    .dataframe thead th {\n",
       "        text-align: right;\n",
       "    }\n",
       "</style>\n",
       "<table border=\"1\" class=\"dataframe\">\n",
       "  <thead>\n",
       "    <tr style=\"text-align: right;\">\n",
       "      <th></th>\n",
       "      <th>date</th>\n",
       "      <th>births</th>\n",
       "      <th>deaths</th>\n",
       "      <th>death_proportion</th>\n",
       "      <th>year</th>\n",
       "    </tr>\n",
       "  </thead>\n",
       "  <tbody>\n",
       "    <tr>\n",
       "      <th>81</th>\n",
       "      <td>1847-10-01</td>\n",
       "      <td>278</td>\n",
       "      <td>11</td>\n",
       "      <td>3.956835</td>\n",
       "      <td>1847</td>\n",
       "    </tr>\n",
       "    <tr>\n",
       "      <th>58</th>\n",
       "      <td>1845-11-01</td>\n",
       "      <td>265</td>\n",
       "      <td>29</td>\n",
       "      <td>10.943396</td>\n",
       "      <td>1845</td>\n",
       "    </tr>\n",
       "    <tr>\n",
       "      <th>17</th>\n",
       "      <td>1842-06-01</td>\n",
       "      <td>273</td>\n",
       "      <td>18</td>\n",
       "      <td>6.593407</td>\n",
       "      <td>1842</td>\n",
       "    </tr>\n",
       "    <tr>\n",
       "      <th>76</th>\n",
       "      <td>1847-05-01</td>\n",
       "      <td>294</td>\n",
       "      <td>36</td>\n",
       "      <td>12.244898</td>\n",
       "      <td>1847</td>\n",
       "    </tr>\n",
       "    <tr>\n",
       "      <th>23</th>\n",
       "      <td>1842-12-01</td>\n",
       "      <td>239</td>\n",
       "      <td>75</td>\n",
       "      <td>31.380753</td>\n",
       "      <td>1842</td>\n",
       "    </tr>\n",
       "  </tbody>\n",
       "</table>\n",
       "</div>"
      ],
      "text/plain": [
       "         date  births  deaths  death_proportion  year\n",
       "81 1847-10-01     278      11          3.956835  1847\n",
       "58 1845-11-01     265      29         10.943396  1845\n",
       "17 1842-06-01     273      18          6.593407  1842\n",
       "76 1847-05-01     294      36         12.244898  1847\n",
       "23 1842-12-01     239      75         31.380753  1842"
      ]
     },
     "execution_count": 24,
     "metadata": {},
     "output_type": "execute_result"
    }
   ],
   "source": [
    "# create a year column\n",
    "comb_data['year'] = comb_data['date'].dt.year\n",
    "comb_data.sample(5)"
   ]
  },
  {
   "cell_type": "code",
   "execution_count": 25,
   "id": "0089c783",
   "metadata": {},
   "outputs": [
    {
     "data": {
      "text/html": [
       "<div>\n",
       "<style scoped>\n",
       "    .dataframe tbody tr th:only-of-type {\n",
       "        vertical-align: middle;\n",
       "    }\n",
       "\n",
       "    .dataframe tbody tr th {\n",
       "        vertical-align: top;\n",
       "    }\n",
       "\n",
       "    .dataframe thead th {\n",
       "        text-align: right;\n",
       "    }\n",
       "</style>\n",
       "<table border=\"1\" class=\"dataframe\">\n",
       "  <thead>\n",
       "    <tr style=\"text-align: right;\">\n",
       "      <th></th>\n",
       "      <th>death_proportion</th>\n",
       "    </tr>\n",
       "    <tr>\n",
       "      <th>year</th>\n",
       "      <th></th>\n",
       "    </tr>\n",
       "  </thead>\n",
       "  <tbody>\n",
       "    <tr>\n",
       "      <th>1841</th>\n",
       "      <td>8.435507</td>\n",
       "    </tr>\n",
       "    <tr>\n",
       "      <th>1842</th>\n",
       "      <td>17.680815</td>\n",
       "    </tr>\n",
       "    <tr>\n",
       "      <th>1843</th>\n",
       "      <td>8.894698</td>\n",
       "    </tr>\n",
       "    <tr>\n",
       "      <th>1844</th>\n",
       "      <td>8.833565</td>\n",
       "    </tr>\n",
       "    <tr>\n",
       "      <th>1845</th>\n",
       "      <td>7.423397</td>\n",
       "    </tr>\n",
       "    <tr>\n",
       "      <th>1846</th>\n",
       "      <td>13.843926</td>\n",
       "    </tr>\n",
       "    <tr>\n",
       "      <th>1847</th>\n",
       "      <td>5.044240</td>\n",
       "    </tr>\n",
       "    <tr>\n",
       "      <th>1848</th>\n",
       "      <td>1.240796</td>\n",
       "    </tr>\n",
       "    <tr>\n",
       "      <th>1849</th>\n",
       "      <td>3.414731</td>\n",
       "    </tr>\n",
       "  </tbody>\n",
       "</table>\n",
       "</div>"
      ],
      "text/plain": [
       "      death_proportion\n",
       "year                  \n",
       "1841          8.435507\n",
       "1842         17.680815\n",
       "1843          8.894698\n",
       "1844          8.833565\n",
       "1845          7.423397\n",
       "1846         13.843926\n",
       "1847          5.044240\n",
       "1848          1.240796\n",
       "1849          3.414731"
      ]
     },
     "execution_count": 25,
     "metadata": {},
     "output_type": "execute_result"
    }
   ],
   "source": [
    "# Check year wise proportion of death & confirm if it reduced drastically after a particular year\n",
    "pd.pivot_table(comb_data,index='year',values='death_proportion',aggfunc='mean')"
   ]
  },
  {
   "cell_type": "markdown",
   "id": "968ff375",
   "metadata": {},
   "source": [
    "It appears that mostly from 1847 onwards, the death proportion reduced. Let us deep dive in the year 1847 & track it at monthly level"
   ]
  },
  {
   "cell_type": "code",
   "execution_count": 26,
   "id": "867d303b",
   "metadata": {},
   "outputs": [
    {
     "data": {
      "text/html": [
       "<div>\n",
       "<style scoped>\n",
       "    .dataframe tbody tr th:only-of-type {\n",
       "        vertical-align: middle;\n",
       "    }\n",
       "\n",
       "    .dataframe tbody tr th {\n",
       "        vertical-align: top;\n",
       "    }\n",
       "\n",
       "    .dataframe thead th {\n",
       "        text-align: right;\n",
       "    }\n",
       "</style>\n",
       "<table border=\"1\" class=\"dataframe\">\n",
       "  <thead>\n",
       "    <tr style=\"text-align: right;\">\n",
       "      <th></th>\n",
       "      <th>death_proportion</th>\n",
       "    </tr>\n",
       "    <tr>\n",
       "      <th>months_of_1847</th>\n",
       "      <th></th>\n",
       "    </tr>\n",
       "  </thead>\n",
       "  <tbody>\n",
       "    <tr>\n",
       "      <th>1</th>\n",
       "      <td>3.215434</td>\n",
       "    </tr>\n",
       "    <tr>\n",
       "      <th>2</th>\n",
       "      <td>1.923077</td>\n",
       "    </tr>\n",
       "    <tr>\n",
       "      <th>3</th>\n",
       "      <td>3.606557</td>\n",
       "    </tr>\n",
       "    <tr>\n",
       "      <th>4</th>\n",
       "      <td>18.269231</td>\n",
       "    </tr>\n",
       "    <tr>\n",
       "      <th>5</th>\n",
       "      <td>12.244898</td>\n",
       "    </tr>\n",
       "    <tr>\n",
       "      <th>6</th>\n",
       "      <td>2.238806</td>\n",
       "    </tr>\n",
       "    <tr>\n",
       "      <th>7</th>\n",
       "      <td>1.200000</td>\n",
       "    </tr>\n",
       "    <tr>\n",
       "      <th>8</th>\n",
       "      <td>1.893939</td>\n",
       "    </tr>\n",
       "    <tr>\n",
       "      <th>9</th>\n",
       "      <td>4.580153</td>\n",
       "    </tr>\n",
       "    <tr>\n",
       "      <th>10</th>\n",
       "      <td>3.956835</td>\n",
       "    </tr>\n",
       "    <tr>\n",
       "      <th>11</th>\n",
       "      <td>4.471545</td>\n",
       "    </tr>\n",
       "    <tr>\n",
       "      <th>12</th>\n",
       "      <td>2.930403</td>\n",
       "    </tr>\n",
       "  </tbody>\n",
       "</table>\n",
       "</div>"
      ],
      "text/plain": [
       "                death_proportion\n",
       "months_of_1847                  \n",
       "1                       3.215434\n",
       "2                       1.923077\n",
       "3                       3.606557\n",
       "4                      18.269231\n",
       "5                      12.244898\n",
       "6                       2.238806\n",
       "7                       1.200000\n",
       "8                       1.893939\n",
       "9                       4.580153\n",
       "10                      3.956835\n",
       "11                      4.471545\n",
       "12                      2.930403"
      ]
     },
     "execution_count": 26,
     "metadata": {},
     "output_type": "execute_result"
    }
   ],
   "source": [
    "# Check monthly proportion of death for the year 1847\n",
    "comb_data[comb_data['year'] == 1847].pivot_table(index=comb_data[comb_data['year'] == 1847]['date'].dt.month.rename('months_of_1847'), values='death_proportion', aggfunc='mean') "
   ]
  },
  {
   "cell_type": "markdown",
   "id": "6bcb50c4",
   "metadata": {},
   "source": [
    "## 5. The effect of handwashing highlighted\n",
    "<p>Starting from the summer of 1847 the proportion of deaths is drastically reduced and, yes, this was when Semmelweis made handwashing obligatory. </p>\n",
    "<p>The effect of handwashing is made even more clear if we highlight this in the graph.</p>"
   ]
  },
  {
   "cell_type": "code",
   "execution_count": 27,
   "id": "4c6793ad",
   "metadata": {},
   "outputs": [],
   "source": [
    "# Date when handwashing was made mandatory\n",
    "handwashing_start = pd.to_datetime('1847-06-01')"
   ]
  },
  {
   "cell_type": "code",
   "execution_count": 28,
   "id": "c22e0eed",
   "metadata": {},
   "outputs": [],
   "source": [
    "# Split dataframe into before and after handwashing_start (which we have created in the above cell)\n",
    "before_washing = comb_data[comb_data['date'] < handwashing_start]\n",
    "after_washing = comb_data[comb_data['date'] >= handwashing_start]"
   ]
  },
  {
   "cell_type": "markdown",
   "id": "60650cf2",
   "metadata": {},
   "source": [
    "<p> Visual proof of how effective, handwashing excercise was. <p>\n",
    " \n",
    "The below code will run only if : \n",
    "* datasets name are 'before_washing' & 'after_washing'\n",
    "* there is a column named 'date' in datetime \n",
    "* the column name for proportion of death is 'death_proportion'"
   ]
  },
  {
   "cell_type": "code",
   "execution_count": 29,
   "id": "6a3e6996",
   "metadata": {},
   "outputs": [
    {
     "data": {
      "text/plain": [
       "Text(0, 0.5, 'Proportion deaths')"
      ]
     },
     "execution_count": 29,
     "metadata": {},
     "output_type": "execute_result"
    },
    {
     "data": {
      "image/png": "[encoded data removed]",
      "text/plain": [
       "<Figure size 640x480 with 1 Axes>"
      ]
     },
     "metadata": {},
     "output_type": "display_data"
    }
   ],
   "source": [
    "# Plot monthly proportion of deaths before and after handwashing\n",
    "ax = before_washing.plot(x='date', y='death_proportion', label = 'before washing')\n",
    "after_washing.plot(x='date', y='death_proportion', label = 'after washing', ax= ax)\n",
    "ax.set_ylabel('Proportion deaths')"
   ]
  },
  {
   "cell_type": "markdown",
   "id": "af0ef3bc",
   "metadata": {},
   "source": [
    "## 6. More handwashing, fewer deaths?\n",
    "<p>Again, the graph shows that handwashing had a huge effect. How much did it reduce the monthly proportion of deaths on average?</p>"
   ]
  },
  {
   "cell_type": "code",
   "execution_count": 30,
   "id": "3fd997dd",
   "metadata": {},
   "outputs": [
    {
     "data": {
      "text/plain": [
       "8.547832490940653"
      ]
     },
     "execution_count": 30,
     "metadata": {},
     "output_type": "execute_result"
    }
   ],
   "source": [
    "# Difference in mean monthly proportion of deaths due to handwashing\n",
    "before_proportion = before_washing['death_proportion']\n",
    "after_proportion = after_washing['death_proportion']\n",
    "mean_diff =  before_proportion.mean() - after_proportion.mean()\n",
    "mean_diff"
   ]
  },
  {
   "cell_type": "markdown",
   "id": "0a461be9",
   "metadata": {},
   "source": [
    "## 7. The fate of Dr. Semmelweis\n",
    "<p>So handwashing reduced the proportion of deaths by between 6.7 and 10 percentage points, according to a 95% confidence interval. All in all, it would seem that Semmelweis had solid evidence that handwashing was a simple but highly effective procedure that could save many lives.</p>\n",
    "<p>The tragedy is that, despite the evidence, Semmelweis' theory — that childbed fever was caused by some \"substance\" (what we today know as <em>bacteria</em>) from autopsy room corpses — was ridiculed by contemporary scientists. The medical community largely rejected his discovery and in 1849 he was forced to leave the Vienna General Hospital for good.</p>\n",
    "<p>One reason for this was that statistics and statistical arguments were uncommon in medical science in the 1800s. Semmelweis only published his data as long tables of raw data, but he didn't show any graphs nor confidence intervals. If he would have had access to the analysis we've just put together he might have been more successful in getting the Viennese doctors to wash their hands.</p>"
   ]
  },
  {
   "cell_type": "markdown",
   "id": "87b7aa6b",
   "metadata": {},
   "source": [
    "# THE END"
   ]
  }
 ],
 "metadata": {
  "kernelspec": {
   "display_name": "Python 3 (ipykernel)",
   "language": "python",
   "name": "python3"
  },
  "language_info": {
   "codemirror_mode": {
    "name": "ipython",
    "version": 3
   },
   "file_extension": ".py",
   "mimetype": "text/x-python",
   "name": "python",
   "nbconvert_exporter": "python",
   "pygments_lexer": "ipython3",
   "version": "3.11.4"
  }
 },
 "nbformat": 4,
 "nbformat_minor": 5
}
