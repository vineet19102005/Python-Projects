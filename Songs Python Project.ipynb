{
 "cells": [
  {
   "cell_type": "code",
   "execution_count": null,
   "id": "0f22ef61",
   "metadata": {},
   "outputs": [],
   "source": [
    "import pandas as pd\n",
    "import numpy as np"
   ]
  },
  {
   "cell_type": "code",
   "execution_count": null,
   "id": "e7716574",
   "metadata": {},
   "outputs": [],
   "source": [
    "path=input(\"Enter the path\")"
   ]
  },
  {
   "cell_type": "code",
   "execution_count": null,
   "id": "cfc43cab",
   "metadata": {},
   "outputs": [],
   "source": [
    "from os import listdir\n",
    "from os.path import isfile,join\n",
    "files=[f for f in listdir(path) if isfile(join(path,f))]"
   ]
  },
  {
   "cell_type": "code",
   "execution_count": null,
   "id": "1847f519",
   "metadata": {},
   "outputs": [],
   "source": [
    "df=pd.DataFrame()\n",
    "for i in files:\n",
    "    if 'name' in i:\n",
    "        t=pd.read_excel(path+'//'+i)\n",
    "        ###########it combine on rows level agar niche add karna hoga toh\n",
    "        df=pd.concat([df,t])\n"
   ]
  },
  {
   "cell_type": "code",
   "execution_count": null,
   "id": "96c8f119",
   "metadata": {},
   "outputs": [],
   "source": [
    "df.drop_duplicates(inplace=True)"
   ]
  },
  {
   "cell_type": "code",
   "execution_count": null,
   "id": "4923d4cf",
   "metadata": {},
   "outputs": [],
   "source": [
    "df\n",
    "Input"
   ]
  },
  {
   "cell_type": "code",
   "execution_count": null,
   "id": "53266e41",
   "metadata": {},
   "outputs": [],
   "source": [
    "df.to_excel(path+'\\\\input_file.xlsx')##to create new file using the dataframe that which has been created then we will use this"
   ]
  },
  {
   "cell_type": "code",
   "execution_count": null,
   "id": "588c554d",
   "metadata": {},
   "outputs": [],
   "source": [
    "Input=pd.read_excel(path+'//input_file.xlsx')"
   ]
  },
  {
   "cell_type": "code",
   "execution_count": null,
   "id": "ace0f308",
   "metadata": {},
   "outputs": [],
   "source": [
    "sl = Input[ Input.Want == 'Yes']['Song'].unique()"
   ]
  },
  {
   "cell_type": "code",
   "execution_count": null,
   "id": "57871882",
   "metadata": {},
   "outputs": [],
   "source": [
    "sl"
   ]
  },
  {
   "cell_type": "code",
   "execution_count": null,
   "id": "7dc98286",
   "metadata": {},
   "outputs": [],
   "source": [
    "df = pd.DataFrame()\n",
    "\n",
    "for i in files:\n",
    "    if \"data\" in i :\n",
    "        t = pd.read_excel(path + '\\\\' + i, nrows = 5)\n",
    "        print(i)\n",
    "        display(t)\n",
    "        print(\"==\"*10)"
   ]
  },
  {
   "cell_type": "code",
   "execution_count": null,
   "id": "ded03dfb",
   "metadata": {},
   "outputs": [],
   "source": [
    "o = pd.DataFrame()\n",
    "\n",
    "for i in files[:-1]:\n",
    "    if \"data\" in i:\n",
    "        t = pd.read_excel(path + '\\\\' + i)\n",
    "        try:\n",
    "            t.columns = [i[1] for i in t.columns.str.split(\".\")]\n",
    "            t.columns = t.columns.str.lower()\n",
    "        except:\n",
    "            t.columns = t.columns.str.lower()\n",
    "        t = t[t.song.isin(songlist)]\n",
    "        o = pd.concat([o,t])"
   ]
  },
  {
   "cell_type": "code",
   "execution_count": null,
   "id": "2f2996e9",
   "metadata": {
    "scrolled": true
   },
   "outputs": [],
   "source": [
    "print(o.song.unique())"
   ]
  },
  {
   "cell_type": "code",
   "execution_count": null,
   "id": "195dfb80",
   "metadata": {},
   "outputs": [],
   "source": [
    "o=o.to_excel(path+'\\\\output_song.xlsx')"
   ]
  }
 ],
 "metadata": {
  "kernelspec": {
   "display_name": "Python 3 (ipykernel)",
   "language": "python",
   "name": "python3"
  },
  "language_info": {
   "codemirror_mode": {
    "name": "ipython",
    "version": 3
   },
   "file_extension": ".py",
   "mimetype": "text/x-python",
   "name": "python",
   "nbconvert_exporter": "python",
   "pygments_lexer": "ipython3",
   "version": "3.11.4"
  }
 },
 "nbformat": 4,
 "nbformat_minor": 5
}
